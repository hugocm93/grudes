{
  "cells": [
    {
      "cell_type": "markdown",
      "metadata": {
        "id": "view-in-github",
        "colab_type": "text"
      },
      "source": [
        "<a href=\"https://colab.research.google.com/github/hugocm93/grudes/blob/main/RecipeOriginClassifier.ipynb\" target=\"_parent\"><img src=\"https://colab.research.google.com/assets/colab-badge.svg\" alt=\"Open In Colab\"/></a>"
      ]
    },
    {
      "cell_type": "markdown",
      "source": [
        "\n",
        "Projeto de avaliação da sprint \"Qualidade de Software, Segurança e Sistemas Inteligentes\" do curso de Pós-graduação da PUC-Rio em Engenharia de Software.\n",
        "\n",
        "Aluno: Hugo Costa Machado\n",
        "\n",
        "## **Observação**: a execução do notebook demora em torno de 13 minutos.\n"
      ],
      "metadata": {
        "id": "lzjZwkPQQb2X"
      }
    },
    {
      "cell_type": "markdown",
      "source": [
        "# Contexto\n",
        "\n",
        " Este notebook produz um modelo de _machine learning_ (ML) supervisionado para fazer predições (classificação) sobre a origem gastronômica de uma receita baseadas em seus ingredientes.\n",
        " O _dataset_ utilizado foi o [Recipe Ingredients Dataset](https://www.kaggle.com/datasets/kaggle/recipe-ingredients-dataset/data?select=train.json) obtido do site [Kaggle](https://www.kaggle.com).\n",
        "\n",
        " O modelo produzido é utilizado no serviço do Grudes API."
      ],
      "metadata": {
        "id": "wWlvgahBnjLN"
      }
    },
    {
      "cell_type": "markdown",
      "source": [
        "#Importações"
      ],
      "metadata": {
        "id": "9vnqK9z5n3gf"
      }
    },
    {
      "cell_type": "code",
      "execution_count": 1,
      "metadata": {
        "id": "ZrQVbUbwgjjf"
      },
      "outputs": [],
      "source": [
        "import warnings\n",
        "warnings.filterwarnings(\"ignore\")\n",
        "\n",
        "import pandas as pd\n",
        "import numpy as np\n",
        "import matplotlib.pyplot as plt\n",
        "import joblib as jl\n",
        "import math\n",
        "from sklearn.base import TransformerMixin\n",
        "from sklearn.model_selection import train_test_split\n",
        "from sklearn.preprocessing import StandardScaler\n",
        "from sklearn.preprocessing import MinMaxScaler\n",
        "from sklearn.model_selection import KFold\n",
        "from sklearn.model_selection import StratifiedKFold\n",
        "from sklearn.model_selection import cross_val_score\n",
        "from sklearn.model_selection import GridSearchCV\n",
        "from sklearn.pipeline import Pipeline\n",
        "from sklearn.tree import DecisionTreeClassifier\n",
        "from sklearn.neighbors import KNeighborsClassifier\n",
        "from sklearn.naive_bayes import GaussianNB\n",
        "from sklearn.svm import SVC\n",
        "from sklearn.feature_extraction.text import TfidfVectorizer\n",
        "from sklearn.feature_extraction.text import CountVectorizer"
      ]
    },
    {
      "cell_type": "markdown",
      "source": [
        "# Definições"
      ],
      "metadata": {
        "id": "XB-ywuOms5l1"
      }
    },
    {
      "cell_type": "code",
      "source": [
        "class DenseTransformer(TransformerMixin):\n",
        "    \"\"\" Transformador de vetor esparso para array\n",
        "    \"\"\"\n",
        "\n",
        "    def fit(self, X, y=None, **params):\n",
        "        return self\n",
        "\n",
        "    def transform(self, X, y=None, **params):\n",
        "        return np.asarray(X.todense())\n",
        "\n",
        "class IdentityTransformer(TransformerMixin):\n",
        "    \"\"\" Transformador identidade\n",
        "    \"\"\"\n",
        "\n",
        "    def fit(self, X, y=None, **params):\n",
        "        return self\n",
        "\n",
        "    def transform(self, X, y=None, **params):\n",
        "        return X*1"
      ],
      "metadata": {
        "id": "hTwxcW2Bs8Kp"
      },
      "execution_count": 2,
      "outputs": []
    },
    {
      "cell_type": "markdown",
      "source": [
        "#Carga dos _Dataset_ em conjunto de entrada e de saída\n",
        "  O _dataset_ [Recipe Ingredients Dataset](https://www.kaggle.com/datasets/kaggle/recipe-ingredients-dataset) é composto de dois conjuntos: _train.json_ e _test.json_. O primeiro contém ingredientes e origem e a segundo contém somente os ingredientes. Como o modelo é supervisionado, somente o primeiro conjunto foi utilizado como dataset para o treino e teste.\n"
      ],
      "metadata": {
        "id": "ANcKXeUen8UD"
      }
    },
    {
      "cell_type": "code",
      "source": [
        "recipes = pd.read_json('https://raw.githubusercontent.com/hugocm93/grudes_api/main/ML/dataset/train.json')\n",
        "\n",
        "X = recipes.values[:,2]\n",
        "Y = recipes.values[:,1]"
      ],
      "metadata": {
        "id": "FxNg35gfoCvv"
      },
      "execution_count": 3,
      "outputs": []
    },
    {
      "cell_type": "markdown",
      "source": [
        "# Pré-processamento\n",
        " Inicialmente os ingredientes são elementos de uma lista. Para o treinamento e teste é necessário concatenar todos os ingredientes numa só _string_."
      ],
      "metadata": {
        "id": "kCgog0DOqsdg"
      }
    },
    {
      "cell_type": "code",
      "source": [
        "X = [' '.join(ingredients) for ingredients in X]\n"
      ],
      "metadata": {
        "id": "DGk5HPWzq0Sy"
      },
      "execution_count": 4,
      "outputs": []
    },
    {
      "cell_type": "markdown",
      "source": [
        "# Separação do _Dataset_ em conjuntos de treino e test."
      ],
      "metadata": {
        "id": "10LqrNt2p1_C"
      }
    },
    {
      "cell_type": "code",
      "execution_count": 5,
      "metadata": {
        "id": "baU8iRLPgrhs"
      },
      "outputs": [],
      "source": [
        "test_size = 0.20\n",
        "seed = 7\n",
        "\n",
        "X_train, X_test, Y_train, Y_test = train_test_split(X, Y,\n",
        "    test_size=test_size, shuffle=True, random_state=seed, stratify=Y)\n"
      ]
    },
    {
      "cell_type": "markdown",
      "source": [
        "# Modelagem"
      ],
      "metadata": {
        "id": "A2lN_I3gjqj0"
      }
    },
    {
      "cell_type": "markdown",
      "source": [
        "## Escolha dos algoritmos e transformações a serem avaliados"
      ],
      "metadata": {
        "id": "9Lx7TNzwuACr"
      }
    },
    {
      "cell_type": "code",
      "source": [
        "models = []\n",
        "models.append(('KNN', KNeighborsClassifier()))\n",
        "models.append(('CART', DecisionTreeClassifier()))\n",
        "models.append(('NB', GaussianNB()))\n",
        "models.append(('SVM', SVC()))\n",
        "\n",
        "scalers = [IdentityTransformer(), MinMaxScaler(), StandardScaler(with_mean=False)]\n",
        "\n",
        "vectorizers = [CountVectorizer(), TfidfVectorizer()]"
      ],
      "metadata": {
        "id": "rQhplmlluLSu"
      },
      "execution_count": 6,
      "outputs": []
    },
    {
      "cell_type": "markdown",
      "source": [
        "## Geração de pipelines a partir dos algoritmos e transformações"
      ],
      "metadata": {
        "id": "4zVvXlI2gREz"
      }
    },
    {
      "cell_type": "code",
      "source": [
        "pipelines = []\n",
        "\n",
        "for model in models:\n",
        "    for scaler in scalers:\n",
        "        for vectorizer in vectorizers:\n",
        "            pipeline = Pipeline([\n",
        "                (type(vectorizer).__name__, vectorizer),\n",
        "            ])\n",
        "\n",
        "            # Alguns pipelines precisam dos dados como não esparso\n",
        "            if model[0] == 'NB' or isinstance(scaler, MinMaxScaler):\n",
        "                pipeline.steps.append(('to_dense', DenseTransformer()))\n",
        "\n",
        "            pipeline.steps.append((type(scaler).__name__, scaler))\n",
        "            pipeline.steps.append(model)\n",
        "\n",
        "            name = model[0] + '_' + type(vectorizer).__name__[0] + '_' + type(scaler).__name__[0]\n",
        "\n",
        "            pipelines.append((name, pipeline))\n"
      ],
      "metadata": {
        "id": "e_i6IKjSgvSN"
      },
      "execution_count": 7,
      "outputs": []
    },
    {
      "cell_type": "markdown",
      "source": [
        "## Avaliação dos pipelines\n",
        " Observação: o _dataset_ foi reduzido neste bloco por questões de tempo de processamento. Usar o _dataset_ todo pode demorar mais de 1h. O _dataset_ reduzido ainda ajuda a escolher o algoritmo com maior potencial para a estapa de _tunning_."
      ],
      "metadata": {
        "id": "y4fbICuEgzC3"
      }
    },
    {
      "cell_type": "code",
      "execution_count": 8,
      "metadata": {
        "colab": {
          "base_uri": "https://localhost:8080/"
        },
        "id": "HEyXgn9Y2hjv",
        "outputId": "7237aeaa-9a3b-4c33-ae7b-a303219c77fa"
      },
      "outputs": [
        {
          "output_type": "stream",
          "name": "stdout",
          "text": [
            "KNN_C_I: 0.466352 (0.026085)\n",
            "KNN_T_I: 0.635499 (0.040106)\n",
            "KNN_C_M: 0.386545 (0.033485)\n",
            "KNN_T_M: 0.588954 (0.036268)\n",
            "KNN_C_S: 0.329949 (0.030303)\n",
            "KNN_T_S: 0.514159 (0.028788)\n",
            "CART_C_I: 0.489623 (0.017455)\n",
            "CART_T_I: 0.465090 (0.025090)\n",
            "CART_C_M: 0.482712 (0.025050)\n",
            "CART_T_M: 0.466985 (0.023673)\n",
            "CART_C_S: 0.485837 (0.024393)\n",
            "CART_T_S: 0.463215 (0.019701)\n",
            "NB_C_I: 0.517917 (0.032257)\n",
            "NB_T_I: 0.505955 (0.031570)\n",
            "NB_C_M: 0.510994 (0.031982)\n",
            "NB_T_M: 0.495892 (0.032721)\n",
            "NB_C_S: 0.460711 (0.027176)\n",
            "NB_T_S: 0.460700 (0.026365)\n",
            "SVM_C_I: 0.597107 (0.035640)\n",
            "SVM_T_I: 0.642991 (0.035106)\n",
            "SVM_C_M: 0.613432 (0.028671)\n",
            "SVM_T_M: 0.626643 (0.035663)\n",
            "SVM_C_S: 0.534249 (0.039881)\n",
            "SVM_T_S: 0.536777 (0.036245)\n"
          ]
        }
      ],
      "source": [
        "scoring = 'accuracy'\n",
        "num_particoes = 10\n",
        "kfold = StratifiedKFold(n_splits=num_particoes, shuffle=True, random_state=seed)\n",
        "\n",
        "# Reduz dataset de treino\n",
        "max = math.ceil(0.05 * len(X_train))\n",
        "X_train_reduced = X_train[0:max]\n",
        "Y_train_reduced = Y_train[0:max]\n",
        "\n",
        "results = []\n",
        "names = []\n",
        "\n",
        "np.random.seed(seed)\n",
        "for name, pipeline in pipelines:\n",
        "    cv_results = cross_val_score(pipeline, X_train_reduced, Y_train_reduced, cv=kfold, scoring=scoring)\n",
        "    results.append(cv_results)\n",
        "    names.append(name)\n",
        "    msg = \"%s: %f (%f)\" % (name, cv_results.mean(), cv_results.std())\n",
        "    print(msg)"
      ]
    },
    {
      "cell_type": "code",
      "source": [
        "fig = plt.figure(figsize=(15,10))\n",
        "fig.suptitle('Comparação dos Modelos')\n",
        "ax = fig.add_subplot(111)\n",
        "plt.boxplot(results)\n",
        "ax.set_xticklabels(names)\n",
        "plt.xticks(fontsize=6)\n",
        "plt.show()"
      ],
      "metadata": {
        "colab": {
          "base_uri": "https://localhost:8080/",
          "height": 925
        },
        "id": "cx9PAdGYiOz0",
        "outputId": "4cb3043b-3753-4f3f-c05b-72eec079d8a6"
      },
      "execution_count": 9,
      "outputs": [
        {
          "output_type": "display_data",
          "data": {
            "text/plain": [
              "<Figure size 1500x1000 with 1 Axes>"
            ],
            "image/png": "[encoded data removed]"
          },
          "metadata": {}
        }
      ]
    },
    {
      "cell_type": "markdown",
      "source": [
        "## Otimização de hiperparâmetros\n",
        " A configuração com melhor acurácia de acordo com a célula anterior é SMV com TfidfVectorizer. Então somente ele será considerado no ajuste de hiperparâmetros.  \n",
        " Observação: o _dataset_ foi reduzido neste bloco por questões de tempo de processamento. Além disto, a combinação de parâmetros também foi reduzida por causa do tempo de processamento. Porém, o bloco ainda serve para demonstrar a etapa de _tunning_ e uma pequena melhora dos resultados escolhendo um valor de C diferente.\n",
        "\n",
        " No final das contas, a própria parametrização default já se mostrou com bons resultados."
      ],
      "metadata": {
        "id": "2HEdqzEKj9Ry"
      }
    },
    {
      "cell_type": "code",
      "source": [
        "# Reduz dataset de treino\n",
        "max = math.ceil(0.1 * len(X_train))\n",
        "X_train_reduced = X_train[0:max]\n",
        "Y_train_reduced = Y_train[0:max]\n",
        "\n",
        "pipeline = Pipeline([\n",
        "    ('vectorizer', TfidfVectorizer()),\n",
        "    ('SVM', SVC())\n",
        "])\n",
        "\n",
        "parameters = {\n",
        "    'SVM__kernel':('linear', 'rbf'),\n",
        "    'SVM__C':[1, 10],\n",
        "    }\n",
        "\n",
        "search = GridSearchCV(pipeline, parameters)\n",
        "search.fit(X_train_reduced, Y_train_reduced)\n",
        "\n",
        "print(search.best_params_)\n",
        "print(search.score(X_test, Y_test))"
      ],
      "metadata": {
        "id": "4a68GXQK8gv0",
        "colab": {
          "base_uri": "https://localhost:8080/"
        },
        "outputId": "d4698b5b-de66-453b-9c40-e26b3990ab2c"
      },
      "execution_count": 10,
      "outputs": [
        {
          "output_type": "stream",
          "name": "stdout",
          "text": [
            "{'SVM__C': 10, 'SVM__kernel': 'rbf'}\n",
            "0.7174104336895034\n"
          ]
        }
      ]
    },
    {
      "cell_type": "markdown",
      "source": [
        "## Finalização do modelo"
      ],
      "metadata": {
        "id": "mBBG0dSmlK-t"
      }
    },
    {
      "cell_type": "code",
      "source": [
        "chosen = Pipeline([\n",
        "    ('vectorizer', TfidfVectorizer()),\n",
        "    ('SVM', SVC(C=10, kernel='rbf'))\n",
        "])\n",
        "\n",
        "chosen.fit(X_train, Y_train)\n",
        "\n",
        "# Guarda modelo para testes automatizados\n",
        "jl.dump(chosen, 'model_dev.joblib')\n",
        "\n",
        "print('Acurácia final: {}'.format(chosen.score(X_test, Y_test)))\n"
      ],
      "metadata": {
        "colab": {
          "base_uri": "https://localhost:8080/"
        },
        "id": "ALLv4kezlTt2",
        "outputId": "ef6298c2-f81d-49d4-f09d-2ae391d8bd35"
      },
      "execution_count": 11,
      "outputs": [
        {
          "output_type": "stream",
          "name": "stdout",
          "text": [
            "Acurácia final: 0.8035197988686361\n"
          ]
        }
      ]
    },
    {
      "cell_type": "markdown",
      "source": [
        "## Exportação do modelo final"
      ],
      "metadata": {
        "id": "G-3YQ8LtlUUa"
      }
    },
    {
      "cell_type": "code",
      "source": [
        "# Utiliza todo o dataset para gerar o modelo final\n",
        "chosen.fit(X, Y)\n",
        "jl.dump(chosen, 'model.joblib')"
      ],
      "metadata": {
        "id": "WfpRxuHYRUMC",
        "colab": {
          "base_uri": "https://localhost:8080/"
        },
        "outputId": "06648dd1-873c-4ab8-a9ad-bd2e7e1bc1d2"
      },
      "execution_count": 12,
      "outputs": [
        {
          "output_type": "execute_result",
          "data": {
            "text/plain": [
              "['model.joblib']"
            ]
          },
          "metadata": {},
          "execution_count": 12
        }
      ]
    },
    {
      "cell_type": "markdown",
      "source": [
        "# Análise de resultados\n",
        "\n",
        "O modelo treinado apresentou uma acurácia de 0.8035.\n",
        "Ao fazer algumas predições, podemos observar:\n",
        " * O modelo treinado utiliza um _dataset_ tendencioso, pois a quantidade de receitas de cada gastronomia não é a mesma. Ex.: sal somente indica gastronomia italiana porque é a que mais tem entradas no _dataset_.\n",
        " * As predições que resultam em gastronomia chinesa e vietnamita tem interseção de alguns ingredientes.\n",
        " * Sal, ovos, farinha e açúcar são ingredientes básicos, e não caracterizam gastronomia italiana ou francesa necessariamente."
      ],
      "metadata": {
        "id": "jBd0yi1NqEiX"
      }
    },
    {
      "cell_type": "code",
      "source": [
        "print(chosen.predict(['olive oil pasta tomato'])[0]  == 'italian')\n",
        "print(chosen.predict(['rice beans'])[0]              == 'mexican')\n",
        "print(chosen.predict(['soy souce rice'])[0]          == 'japanese')\n",
        "print(chosen.predict(['egg flour sugar'])[0]         == 'french')\n",
        "print(chosen.predict(['cabbage pepper sausage'])[0]  == 'irish')\n",
        "print(chosen.predict(['brocollis tofu rice'])[0]     == 'chinese')\n",
        "print(chosen.predict(['brocollis tofu rice noodles'])[0]  == 'vietnamese')\n",
        "print(chosen.predict(['salt'])[0]                    == 'italian')"
      ],
      "metadata": {
        "colab": {
          "base_uri": "https://localhost:8080/"
        },
        "id": "Hbk73jo9qX-d",
        "outputId": "170e288e-a857-4c98-aacb-26202fa88eba"
      },
      "execution_count": 13,
      "outputs": [
        {
          "output_type": "stream",
          "name": "stdout",
          "text": [
            "True\n",
            "True\n",
            "True\n",
            "True\n",
            "True\n",
            "True\n",
            "True\n",
            "True\n"
          ]
        }
      ]
    },
    {
      "cell_type": "markdown",
      "source": [
        "# Conclusão\n",
        "\n",
        "Fatos a serem considerados para a conclusão dos resultados:\n",
        " * Algumas gastronomias são parecidas umas com as outras por várias questões (culturais e geográficas por exemplo).\n",
        " * O _dataset_ não continha informação de quantidades de ingredientes e rendimento em porções, que poderiam contribuir para uma melhor classificação.\n",
        " * Muitos ingredientes são ingredientes base de qualquer gastronomia, e então não são servem como identificadores de origem.  \n",
        " * Receitas são adotadas e modificadas por gastronomias, introduzindo pequenas variações nas receita que dificultam a classificação.\n",
        "\n",
        "Para receitas básicas ou com poucos ingredientes, o modelo não apresenta um bom resultado e demonstra _bias_ adquirido do seu _dataset_ de treino.\n",
        " Para receitas com vários ingredientes, o modelo apresentou um bom resultado, dando a gastronomia correta, ou por vezes uma gastronomia parecida nos quesitos culturais e geográficos.  \n",
        "\n",
        "O modelo poderia ser utilizado, por exemplo, para dar um bom chute inicial para várias receitas de um banco de dados de forma automática.\n",
        "\n",
        "Para este trabalho, o modelo foi interessante e apresentou bom resultado quando aplicado às receitas do banco de dados utilizado (The Meal DB) pela aplicação **Grudes**."
      ],
      "metadata": {
        "id": "xQzy6B9BuIS6"
      }
    },
    {
      "cell_type": "markdown",
      "source": [
        "# Reflexão sobre boas práticas de desenvolvimento de software seguro aplicadas a este trabalho\n",
        "\n",
        "O modelo de ML não utiliza dados sensíveis, pois receitas culinárias são públicas.  No entando, a aplicação Grudes poderia se beneficiar de boas práticas de desenvolvimento. Apesar de a aplicação atual não ter contas de usuário, isto seria uma funcionalidade desejável. Sendo assim, a conta de usuário bem como seus dados pessoas e senhas deveriam ser transmitidos e armazenados de forma segura.\n",
        "\n",
        "Além disto, como qualquer aplicação Web, seria importante desenvolvê-la garantindo todos os aspectos de segurança: integridade dos dados dos usuários e suas receitas, autenticidade, confidencialidade, autorização de acesso e disponibilidade dos serviços envolvidos.\n"
      ],
      "metadata": {
        "id": "UdcBnLAZ4Vf_"
      }
    }
  ],
  "metadata": {
    "colab": {
      "provenance": [],
      "authorship_tag": "ABX9TyNiTbp109wTu2lwXHTqXRym",
      "include_colab_link": true
    },
    "kernelspec": {
      "display_name": "Python 3",
      "name": "python3"
    },
    "language_info": {
      "name": "python"
    }
  },
  "nbformat": 4,
  "nbformat_minor": 0
}